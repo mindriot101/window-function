{
 "metadata": {
  "name": "",
  "signature": "sha256:e9ca2d3c0efd1525b19839b3fb20f6b54010d7dddc62cb0411317bf563232074"
 },
 "nbformat": 3,
 "nbformat_minor": 0,
 "worksheets": [
  {
   "cells": [
    {
     "cell_type": "markdown",
     "metadata": {},
     "source": [
      "Can we simulate the period window for a typical planet that NGTS is interested in and compute for each period, what is the sensitivity to said period averaged over all phases and planet periods."
     ]
    },
    {
     "cell_type": "heading",
     "level": 2,
     "metadata": {},
     "source": [
      "Process"
     ]
    },
    {
     "cell_type": "markdown",
     "metadata": {},
     "source": [
      "* Pick an observing strategy (every day, or every two days for two years)\n",
      "* Define a weather fraction\n",
      "* From the start point of the simulation, for two years remove days based on weather fraction\n",
      "* Pick a planet class (large neptune, or small neptune) - for now, until we draw random classes\n",
      "* Pick a random period from 1 to 30 days\n",
      "* Pick a random starting epoch, after the start point of the simulation\n",
      "* Pick a random ra, and declination between 36 and -84\n",
      "* For each day that is not knocked out by weather:\n",
      "  * find out the beginning/end of astronomical night\n",
      "  * decide if a transit is contained within this range,\n",
      "  * and that it's visible above airmass 2 (altitude 30)\n",
      "* Compute the number of transits detected divided by the target number for belief (probably 3)\n",
      "* For each period, sum the fractions to get the period window"
     ]
    },
    {
     "cell_type": "code",
     "collapsed": false,
     "input": [
      "%matplotlib inline\n",
      "%config InlineBackend.figure_format = 'retina'\n",
      "\n",
      "import numpy as np\n",
      "import matplotlib.pyplot as plt\n",
      "import seaborn as sns\n",
      "import datetime\n",
      "from astropy import coordinates as coord, units as u, time, constants as const\n",
      "import logging\n",
      "import sys\n",
      "import os\n",
      "from scipy import interpolate, stats\n",
      "import ephem\n",
      "\n",
      "logger = logging.getLogger('window-function')\n",
      "logger.setLevel(logging.DEBUG)\n",
      "\n",
      "np.random.seed(42)\n",
      "\n",
      "colours = sns.color_palette(n_colors=5)\n",
      "\n",
      "sns.set(style='white')"
     ],
     "language": "python",
     "metadata": {},
     "outputs": []
    },
    {
     "cell_type": "markdown",
     "metadata": {},
     "source": [
      "First we'll start with the simple observing as often as we can when a field is up. We only need to consider one year in this case. Start with some constants:"
     ]
    },
    {
     "cell_type": "code",
     "collapsed": false,
     "input": [
      "def datetime_to_jd(dt):\n",
      "    datetime_object = datetime.datetime(\n",
      "        dt.year, dt.month, dt.day, 0, 0, 1)\n",
      "    return time.Time(datetime_object.isoformat(), format='isot', scale='utc').jd"
     ],
     "language": "python",
     "metadata": {},
     "outputs": []
    },
    {
     "cell_type": "code",
     "collapsed": false,
     "input": [
      "try:\n",
      "    n_planets_to_draw = int(os.environ['NPLANETS'])\n",
      "except KeyError:\n",
      "    raise RuntimeError(\"Set NPLANETS environment variable to choose the number of planets\")\n",
      "\n",
      "print('Computing for %d planets' % n_planets_to_draw)\n",
      "weather_fraction = 0.7\n",
      "n_requested_transits = 3.\n",
      "start_date, end_date = datetime.date(2015, 1, 1), datetime.date(2018, 1, 1)\n",
      "ndays = (end_date - start_date).days\n",
      "dates = np.asarray([start_date + datetime.timedelta(days=i) for i in range(ndays)])\n",
      "site_coordinates = coord.EarthLocation.from_geodetic(70.4042 * u.degree, -24.6272 * u.degree, 2400 * u.m)\n",
      "ra_choices = np.linspace(0, 360, 24) * u.degree\n",
      "dec_choices = np.linspace(-84, 36, 24) * u.degree\n",
      "start_jd, end_jd = datetime_to_jd(start_date), datetime_to_jd(end_date)\n",
      "half_an_hour = (0.5 * u.hour).to(u.d)"
     ],
     "language": "python",
     "metadata": {},
     "outputs": []
    },
    {
     "cell_type": "code",
     "collapsed": false,
     "input": [
      "def altitude(position):\n",
      "    return site_coordinates.itrs.separation(position)"
     ],
     "language": "python",
     "metadata": {},
     "outputs": []
    },
    {
     "cell_type": "markdown",
     "metadata": {},
     "source": [
      "Now we can remove the days in which the weather is bad."
     ]
    },
    {
     "cell_type": "code",
     "collapsed": false,
     "input": [
      "ind = np.ones(ndays, dtype=bool)\n",
      "days = np.arange(ndays)\n",
      "bad_days = np.random.choice(days, replace=False, size=(1 - weather_fraction) * ndays)\n",
      "logger.info('Removing %d bad days', bad_days.size)\n",
      "ind[bad_days] = False\n",
      "valid_dates = set(dates[ind])"
     ],
     "language": "python",
     "metadata": {},
     "outputs": []
    },
    {
     "cell_type": "markdown",
     "metadata": {},
     "source": [
      "Now a class to draw periods, as the setup is relatively expensive."
     ]
    },
    {
     "cell_type": "code",
     "collapsed": false,
     "input": [
      "class DrawPeriods(object):\n",
      "    \n",
      "    def __init__(self, values):\n",
      "        self.periods = np.asarray([2, 3.4, 5.9, 10, 17])\n",
      "        self.values = values\n",
      "        self.interp = interpolate.interp1d(self.values, self.periods)\n",
      "        \n",
      "    def draw(self):\n",
      "        chosen_value = np.random.uniform(self.values.min(), self.values.max())\n",
      "        return float(self.interp(chosen_value))\n",
      "    \n",
      "    @property\n",
      "    def min_period(self):\n",
      "        return self.periods.min()\n",
      "    \n",
      "    @property\n",
      "    def max_period(self):\n",
      "        return self.periods.max()\n",
      "    \n",
      "    @classmethod\n",
      "    def large_neptunes(cls):\n",
      "        values = np.asarray([0.004, 0.01, 0.12, 0.21, 0.49]) / 100.\n",
      "        return cls(values)\n",
      "    \n",
      "    @classmethod\n",
      "    def small_neptunes(cls):\n",
      "        values = np.asarray([0.035, 0.22, 0.95, 2.88, 6.55]) / 100.\n",
      "        return cls(values)"
     ],
     "language": "python",
     "metadata": {},
     "outputs": []
    },
    {
     "cell_type": "markdown",
     "metadata": {},
     "source": [
      "As a test, we shall see what the cumulative distribution of periods looks like."
     ]
    },
    {
     "cell_type": "code",
     "collapsed": false,
     "input": [
      "d = DrawPeriods.large_neptunes()\n",
      "periods = [d.draw() for _ in range(1000)]\n",
      "_, _, lines = plt.hist(periods, bins=100, normed=True, cumulative=True, histtype='step', lw=2., color=colours[0])\n",
      "plt.ylim(0, 1)\n",
      "plt.twinx()\n",
      "prob_dist = plt.plot(d.periods, d.values / d.values.max(), color=colours[1])\n",
      "plt.ylim(0, 1)\n",
      "plt.legend([lines[0], prob_dist[0]], ['Planet distribution', 'Probability distribution'], loc='best')\n",
      "None"
     ],
     "language": "python",
     "metadata": {},
     "outputs": []
    },
    {
     "cell_type": "heading",
     "level": 2,
     "metadata": {},
     "source": [
      "Drawing planets"
     ]
    },
    {
     "cell_type": "markdown",
     "metadata": {},
     "source": [
      "Now we can start drawing planets and determining if they are detectable. First we define the \"is visible\" function:"
     ]
    },
    {
     "cell_type": "code",
     "collapsed": false,
     "input": [
      "def separation_from_period(period):\n",
      "    period = (period * u.d).to(u.s)\n",
      "    mass = (1. * u.astrophys.M_sun).to(u.kg)\n",
      "    norm = ((const.G * mass / (4. * np.pi ** 2))) ** (1. / 3.)\n",
      "    return (norm * period ** (2. / 3.)).to(u.m)\n",
      "\n",
      "def transit_probability(period):\n",
      "    radius = 1. * u.astrophys.R_sun.to(u.m)\n",
      "    return (radius / separation_from_period(period)).value"
     ],
     "language": "python",
     "metadata": {},
     "outputs": []
    },
    {
     "cell_type": "code",
     "collapsed": false,
     "input": [
      "def compute_twighlight_limits(dt):\n",
      "    observer = ephem.Observer()\n",
      "    observer.date = datetime.datetime(dt.datetime.year,\n",
      "                                      dt.datetime.month,\n",
      "                                      dt.datetime.day,\n",
      "                                      0, 0, 1)\n",
      "    observer.lat = site_coordinates.latitude.value\n",
      "    observer.long = site_coordinates.longitude.value    \n",
      "    observer.horizon = '-18'\n",
      "    \n",
      "    return (observer.previous_rising(ephem.Sun(), use_center=True).datetime(),\n",
      "            observer.next_setting(ephem.Sun(), use_center=True).datetime())"
     ],
     "language": "python",
     "metadata": {},
     "outputs": []
    },
    {
     "cell_type": "code",
     "collapsed": false,
     "input": [
      "def transit_is_visible(dt, sky_position, minimum_elevation=30. * u.degree):\n",
      "    night = dt.datetime.date()  \n",
      "    \n",
      "    if night not in valid_dates:\n",
      "        return False\n",
      "    \n",
      "    twighlight_limits = compute_twighlight_limits(dt)\n",
      "    if dt < twighlight_limits[0] or dt > twighlight_limits[1]:\n",
      "        return False\n",
      "    \n",
      "    if altitude(sky_position) < minimum_elevation:\n",
      "        return False\n",
      "    \n",
      "    return True  "
     ],
     "language": "python",
     "metadata": {},
     "outputs": []
    },
    {
     "cell_type": "code",
     "collapsed": false,
     "input": [
      "%%time\n",
      "\n",
      "periods, fraction = [], []\n",
      "i = 0\n",
      "while True:\n",
      "    period = d.draw()\n",
      "    if np.random.uniform() > transit_probability(period):\n",
      "        continue\n",
      "        \n",
      "    sky_position = coord.SkyCoord(np.random.choice(ra_choices), np.random.choice(dec_choices), unit=(u.degree, u.degree))\n",
      "    epoch = time.Time(np.random.uniform(start_jd, end_jd), format='jd')\n",
      "    \n",
      "    n_visible_transits = 0\n",
      "    for transit in np.arange(365.25 / period):\n",
      "        midpoint = epoch + time.TimeDelta(transit * period, format='jd')\n",
      "        if transit_is_visible(midpoint, sky_position):\n",
      "            n_visible_transits += 1\n",
      "            \n",
      "    if n_visible_transits > 0:\n",
      "        i += 1\n",
      "    periods.append(period)\n",
      "    fraction.append(float(n_visible_transits) / n_requested_transits)\n",
      "    \n",
      "    if i >= n_planets_to_draw:\n",
      "        break\n",
      "    \n",
      "periods, fraction = [np.asarray(val) for val in [periods, fraction]]\n",
      "ind = periods.argsort()\n",
      "periods, fraction = [data[ind] for data in [periods, fraction]]"
     ],
     "language": "python",
     "metadata": {},
     "outputs": []
    },
    {
     "cell_type": "markdown",
     "metadata": {},
     "source": [
      "These are a series of delta functions, so we need to bin up in the x axis"
     ]
    },
    {
     "cell_type": "code",
     "collapsed": false,
     "input": [
      "by, bx, _ = stats.binned_statistic(np.log10(periods), fraction, bins=25)\n",
      "by[by != by] = 0.\n",
      "l, = plt.semilogx(10 ** bx[:-1], by, drawstyle='steps-post')\n",
      "plt.xlim(d.min_period, d.max_period)\n",
      "target = plt.axhline(n_requested_transits, color='k', ls=':')\n",
      "plt.legend([l, target], ['Window function', 'Target'], loc='best')\n",
      "plt.xlabel(r'Orbital period / days')\n",
      "plt.ylabel(r'Detected transits')\n",
      "plt.tight_layout()\n",
      "for extension in 'png', 'pdf':\n",
      "    plt.savefig('window-function.{}'.format(extension))"
     ],
     "language": "python",
     "metadata": {},
     "outputs": []
    }
   ],
   "metadata": {}
  }
 ]
}